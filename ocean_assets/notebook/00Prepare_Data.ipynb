{
 "cells": [
  {
   "cell_type": "markdown",
   "metadata": {},
   "source": [
    "## I. Setting\n",
    "### 1. Packages"
   ]
  },
  {
   "cell_type": "code",
   "execution_count": 1,
   "metadata": {},
   "outputs": [
    {
     "name": "stderr",
     "output_type": "stream",
     "text": [
      "Using TensorFlow backend.\n"
     ]
    }
   ],
   "source": [
    "# Import packages\n",
    "import os, sys, shutil, warnings, random, glob, pylab, numpy as np, pandas as pd, time, datetime\n",
    "from tqdm import tqdm\n",
    "\n",
    "# packages for visualization\n",
    "import pydicom, cv2, seaborn as sns, matplotlib.pyplot as plt\n",
    "from matplotlib import patches\n",
    "from PIL import Image\n",
    "from imgaug import augmenters as iaa\n",
    "\n",
    "# packages for model\n",
    "import tensorflow as tf, keras\n",
    "from keras.callbacks import EarlyStopping\n",
    "from keras.backend.tensorflow_backend import set_session\n",
    "from keras.models import load_model\n",
    "from sklearn.model_selection import KFold, train_test_split"
   ]
  },
  {
   "cell_type": "code",
   "execution_count": 2,
   "metadata": {},
   "outputs": [],
   "source": [
    "#### Package settings\n",
    "\n",
    "# Display up to 50 columns of a pandas dataframe\n",
    "pd.set_option('display.max_columns',50)\n",
    "# ignore warnings\n",
    "warnings.filterwarnings(\"ignore\")\n",
    "\n",
    "# Limit GPU usage to 80%\n",
    "tf_config = tf.ConfigProto()\n",
    "tf_config.gpu_options.per_process_gpu_memory_fraction = 0.8\n",
    "set_session(tf.Session(config=tf_config))"
   ]
  },
  {
   "cell_type": "markdown",
   "metadata": {},
   "source": [
    "### 2. Directory"
   ]
  },
  {
   "cell_type": "code",
   "execution_count": 3,
   "metadata": {},
   "outputs": [
    {
     "data": {
      "text/plain": [
       "'/home/ubuntu/healthcare/pneumonia_lungfish/ocean_assets/notebooks'"
      ]
     },
     "execution_count": 3,
     "metadata": {},
     "output_type": "execute_result"
    }
   ],
   "source": [
    "os.getcwd()"
   ]
  },
  {
   "cell_type": "code",
   "execution_count": 4,
   "metadata": {},
   "outputs": [
    {
     "name": "stdout",
     "output_type": "stream",
     "text": [
      "/home/ubuntu/healthcare/pneumonia_lungfish/ocean_assets/image_data/\n",
      "/home/ubuntu/healthcare/pneumonia_lungfish/ocean_assets/meta_data/\n",
      "/home/ubuntu/healthcare/pneumonia_lungfish/ocean_assets_visualization/\n",
      "/home/ubuntu/healthcare/pneumonia_lungfish/ocean_assets/image_data/sample_image/\n",
      "/home/ubuntu/healthcare/pneumonia_lungfish/ocean_assets/image_data/sample_image/sample_train/\n",
      "/home/ubuntu/healthcare/pneumonia_lungfish/ocean_assets/image_data/sample_image/sample_validate/\n",
      "/home/ubuntu/healthcare/pneumonia_lungfish/ocean_assets/image_data/sample_image/sample_test/\n",
      "/home/ubuntu/healthcare/pneumonia_lungfish/ocean_assets/meta_data/sample_meta/\n",
      "/home/ubuntu/healthcare/pneumonia_lungfish/ocean_assets_visualization/sample_visual/\n"
     ]
    }
   ],
   "source": [
    "# The home directory of this project\n",
    "root_DIR = '/home/ubuntu/healthcare/pneumonia_lungfish'\n",
    "# Ocean asset directories\n",
    "# Image data\n",
    "assets_image_data =('/home/ubuntu/healthcare/pneumonia_lungfish/ocean_assets/image_data/')\n",
    "# Meta data (dataframe and array data)\n",
    "assets_meta_data =('/home/ubuntu/healthcare/pneumonia_lungfish/ocean_assets/meta_data/')\n",
    "# Visualization \n",
    "visual_DIR =('/home/ubuntu/healthcare/pneumonia_lungfish/ocean_assets_visualization/')\n",
    "\n",
    "\n",
    "# Sample data\n",
    "sample_image=('/home/ubuntu/healthcare/pneumonia_lungfish/ocean_assets/image_data/sample_image/')\n",
    "# Sample image data directories for training using \n",
    "sample_train = ('/home/ubuntu/healthcare/pneumonia_lungfish/ocean_assets/image_data/sample_image/sample_train/')\n",
    "sample_validate = ('/home/ubuntu/healthcare/pneumonia_lungfish/ocean_assets/image_data/sample_image/sample_validate/')\n",
    "sample_test= ('/home/ubuntu/healthcare/pneumonia_lungfish/ocean_assets/image_data/sample_image/sample_test/')\n",
    "\n",
    "# Sample meta data (dataframe and array data)\n",
    "sample_meta = ('/home/ubuntu/healthcare/pneumonia_lungfish/ocean_assets/meta_data/sample_meta/')\n",
    "# Sample visualization \n",
    "sample_visual=('/home/ubuntu/healthcare/pneumonia_lungfish/ocean_assets_visualization/sample_visual/')\n",
    "\n",
    "#sample_dirs = ['sample_train','sample_validate','sample_test']\n",
    "#for DIR in sample_dirs:\n",
    "    #os.mkdir(os.path.join(sample_image,DIR))  \n",
    "\n",
    "\n",
    "print(assets_image_data )\n",
    "print(assets_meta_data)\n",
    "print(visual_DIR)\n",
    "print(sample_image)\n",
    "print(sample_train)\n",
    "print(sample_validate)\n",
    "print(sample_test)\n",
    "print(sample_meta)\n",
    "print(sample_visual)\n",
    "    "
   ]
  },
  {
   "cell_type": "code",
   "execution_count": 5,
   "metadata": {},
   "outputs": [
    {
     "name": "stdout",
     "output_type": "stream",
     "text": [
      "/home/ubuntu/healthcare/pneumonia_lungfish/ocean_assets/image_data/full_image/\n",
      "/home/ubuntu/healthcare/pneumonia_lungfish/ocean_assets/image_data/full_image/full_train/\n",
      "/home/ubuntu/healthcare/pneumonia_lungfish/ocean_assets/image_data/full_image/full_validate/\n",
      "/home/ubuntu/healthcare/pneumonia_lungfish/ocean_assets/image_data/full_image/full_test/\n",
      "/home/ubuntu/healthcare/pneumonia_lungfish/ocean_assets/meta_data/full_meta/\n",
      "/home/ubuntu/healthcare/pneumonia_lungfish/ocean_assets_visualization/full_visual/\n"
     ]
    }
   ],
   "source": [
    "# full data: includes all images \n",
    "full_image=('/home/ubuntu/healthcare/pneumonia_lungfish/ocean_assets/image_data/full_image/')\n",
    "# full image data directories for training using \n",
    "full_train = ('/home/ubuntu/healthcare/pneumonia_lungfish/ocean_assets/image_data/full_image/full_train/')\n",
    "full_validate = ('/home/ubuntu/healthcare/pneumonia_lungfish/ocean_assets/image_data/full_image/full_validate/')\n",
    "full_test= ('/home/ubuntu/healthcare/pneumonia_lungfish/ocean_assets/image_data/full_image/full_test/')\n",
    "\n",
    "# full meta data (dataframe and array data)\n",
    "full_meta = ('/home/ubuntu/healthcare/pneumonia_lungfish/ocean_assets/meta_data/full_meta/')\n",
    "# full visualization \n",
    "full_visual=('/home/ubuntu/healthcare/pneumonia_lungfish/ocean_assets_visualization/full_visual/')\n",
    "\n",
    "#full_dirs = ['full_train','full_validate','full_test']\n",
    "#for DIR in full_dirs:\n",
    "    #os.mkdir(os.path.join(full_image,DIR))  \n",
    "\n",
    "\n",
    "print(full_image)\n",
    "print(full_train)\n",
    "print(full_validate)\n",
    "print(full_test)\n",
    "print(full_meta)\n",
    "print(full_visual)\n",
    "    "
   ]
  },
  {
   "cell_type": "code",
   "execution_count": 7,
   "metadata": {},
   "outputs": [
    {
     "name": "stdout",
     "output_type": "stream",
     "text": [
      "/home/ubuntu/healthcare/pneumonia_lungfish/src/Mask_RCNN\n",
      "/home/ubuntu/healthcare/pneumonia_lungfish/src/Mask_RCNN_coco_weights/mask_rcnn_coco.h5\n",
      "/home/ubuntu/healthcare/pneumonia_lungfish/src/models_working\n"
     ]
    }
   ],
   "source": [
    "# Model Directory\n",
    "MASK_RCNN = os.path.join(root_DIR,'src/Mask_RCNN')\n",
    "COCO_WEIGHTS_PATH = os.path.join(root_DIR,'src/Mask_RCNN_coco_weights/mask_rcnn_coco.h5')\n",
    "models_working_DIR = os.path.join(root_DIR,'src/models_working')\n",
    "print(MASK_RCNN)\n",
    "print(COCO_WEIGHTS_PATH)\n",
    "print(models_working_DIR)"
   ]
  },
  {
   "cell_type": "markdown",
   "metadata": {},
   "source": [
    "### Raw data"
   ]
  },
  {
   "cell_type": "code",
   "execution_count": 67,
   "metadata": {},
   "outputs": [
    {
     "name": "stdout",
     "output_type": "stream",
     "text": [
      "/home/ubuntu/healthcare/pneumonia_lungfish/src/data/raw/\n",
      "/home/ubuntu/healthcare/pneumonia_lungfish/src/data/raw/stage_2_train_images/\n"
     ]
    }
   ],
   "source": [
    "# Raw data directory\n",
    "raw_data_DIR = ('/home/ubuntu/healthcare/pneumonia_lungfish/src/data/raw/')\n",
    "# Raw Image directory\n",
    "#train_dicom_DIR = os.path.join(full_image,'stage_2_train_images/')\n",
    "train_dicom_DIR ='/home/ubuntu/healthcare/pneumonia_lungfish/src/data/raw/stage_2_train_images/'\n",
    "\n",
    "print(raw_data_DIR)\n",
    "print(train_dicom_DIR)"
   ]
  },
  {
   "cell_type": "markdown",
   "metadata": {},
   "source": [
    "## II. Data "
   ]
  },
  {
   "cell_type": "markdown",
   "metadata": {},
   "source": [
    "### 1. Overview of data preparation\n",
    " * remove replicates\n",
    " * split dataframe into train, validation, test in csv\n",
    " * split images into folders \n",
    " * prepare a dataframe with ground truth information (including image path, target, segmentation, and bounding boxes)"
   ]
  },
  {
   "cell_type": "markdown",
   "metadata": {},
   "source": [
    "### 2. Exploratory data analysis"
   ]
  },
  {
   "cell_type": "markdown",
   "metadata": {},
   "source": [
    "#### 2.1) Prepare a dataframe df_path listing the path for each image "
   ]
  },
  {
   "cell_type": "code",
   "execution_count": 9,
   "metadata": {},
   "outputs": [
    {
     "name": "stdout",
     "output_type": "stream",
     "text": [
      "                                          image_path  \\\n",
      "0  /home/ubuntu/healthcare/pneumonia_lungfish/src...   \n",
      "1  /home/ubuntu/healthcare/pneumonia_lungfish/src...   \n",
      "\n",
      "                              patientId  \n",
      "0  79d6e398-6ee6-4c5a-b924-a082d3c1cce9  \n",
      "1  77a4deeb-5538-4c93-82e1-ef9c8877aaeb  \n",
      "26684 images in total\n"
     ]
    }
   ],
   "source": [
    "df_path = pd.DataFrame({'image_path': glob.glob(os.path.join(train_dicom_DIR, '*.dcm'))})\n",
    "df_path['patientId'] = df_path['image_path'].map(lambda x: os.path.splitext(os.path.basename(x))[0])\n",
    "print(df_path.head(2))\n",
    "print(df_path.shape[0], 'images in total')"
   ]
  },
  {
   "cell_type": "markdown",
   "metadata": {},
   "source": [
    "#### 2.2) Prepare a dataframe with both target and path information "
   ]
  },
  {
   "cell_type": "code",
   "execution_count": 96,
   "metadata": {},
   "outputs": [
    {
     "name": "stdout",
     "output_type": "stream",
     "text": [
      "df_labels dataframe: \n",
      "                               patientId    x    y  width  height  Target\n",
      "0  0004cfab-14fd-4e49-80ba-63a80b6bddd6 nan% nan%   nan%    nan%       0\n",
      "1  00313ee0-9eaa-42f4-b0ab-c148ed3241cd nan% nan%   nan%    nan%       0\n",
      "\n",
      " \n",
      " In total, there are 26684 patientIds!\n",
      "\n",
      " \n",
      " df_target_path dataframe: \n",
      "                               patientId  Target  \\\n",
      "0  0004cfab-14fd-4e49-80ba-63a80b6bddd6       0   \n",
      "1  00313ee0-9eaa-42f4-b0ab-c148ed3241cd       0   \n",
      "\n",
      "                                          image_path  \n",
      "0  /home/ubuntu/healthcare/pneumonia_lungfish/src...  \n",
      "1  /home/ubuntu/healthcare/pneumonia_lungfish/src...  \n"
     ]
    }
   ],
   "source": [
    "df_labels = pd.read_csv(os.path.join(raw_data_DIR,'stage_2_train_labels.csv'))\n",
    "print('df_labels dataframe:','\\n',df_labels.head(2))\n",
    "df_target = df_labels[['patientId','Target']].drop_duplicates()\n",
    "\n",
    "df_target_path= pd.merge(df_target,df_path, on='patientId',how='left')\n",
    "df_target_path.to_csv(os.path.join(full_meta,'df_target_path.csv'), index = False)\n",
    "print('\\n','\\n','In total, there are',df_target_path.shape[0], 'patientIds!')\n",
    "print('\\n','\\n','df_target_path dataframe:','\\n',df_target_path.head(2)) "
   ]
  },
  {
   "cell_type": "markdown",
   "metadata": {},
   "source": [
    "### In the scope of this project, the 'Target' in df_labels is associated with opacity \n",
    " * Target = 0: 'No Lung Opacity'\n",
    " * Target 1: = 'Lung Opacity' "
   ]
  },
  {
   "cell_type": "code",
   "execution_count": 11,
   "metadata": {
    "scrolled": true
   },
   "outputs": [
    {
     "data": {
      "text/html": [
       "<div>\n",
       "<style scoped>\n",
       "    .dataframe tbody tr th:only-of-type {\n",
       "        vertical-align: middle;\n",
       "    }\n",
       "\n",
       "    .dataframe tbody tr th {\n",
       "        vertical-align: top;\n",
       "    }\n",
       "\n",
       "    .dataframe thead th {\n",
       "        text-align: right;\n",
       "    }\n",
       "</style>\n",
       "<table border=\"1\" class=\"dataframe\">\n",
       "  <thead>\n",
       "    <tr style=\"text-align: right;\">\n",
       "      <th></th>\n",
       "      <th>Target</th>\n",
       "      <th>Count</th>\n",
       "      <th>Percentage</th>\n",
       "    </tr>\n",
       "  </thead>\n",
       "  <tbody>\n",
       "    <tr>\n",
       "      <th>0</th>\n",
       "      <td>0</td>\n",
       "      <td>20672</td>\n",
       "      <td>77.5%</td>\n",
       "    </tr>\n",
       "    <tr>\n",
       "      <th>1</th>\n",
       "      <td>1</td>\n",
       "      <td>6012</td>\n",
       "      <td>22.5%</td>\n",
       "    </tr>\n",
       "  </tbody>\n",
       "</table>\n",
       "</div>"
      ],
      "text/plain": [
       "   Target   Count  Percentage\n",
       "0       0   20672       77.5%\n",
       "1       1    6012       22.5%"
      ]
     },
     "execution_count": 11,
     "metadata": {},
     "output_type": "execute_result"
    }
   ],
   "source": [
    "df_count = df_target_path.groupby(['Target']).size().reset_index(name=' Count')\n",
    "df_count['Percentage'] =df_count.iloc[:, 1:].apply(lambda x: x / x.sum()*100)\n",
    "pd.options.display.float_format = '{:.1f}%'.format\n",
    "df_count"
   ]
  },
  {
   "cell_type": "markdown",
   "metadata": {},
   "source": [
    "### 3. Full dataset preparation for training \n",
    "#### N= 26684 images"
   ]
  },
  {
   "cell_type": "markdown",
   "metadata": {},
   "source": [
    "#### 3.1) Split the dataframe into train, validation, and test"
   ]
  },
  {
   "cell_type": "code",
   "execution_count": 12,
   "metadata": {},
   "outputs": [],
   "source": [
    "# We wrote a function to split a dataframe into train, validation, test \n",
    "def split_df(df,image_path_col,target_col,val_size,test_size, random_state):\n",
    "    X = df[image_path_col]\n",
    "    y= df[target_col]\n",
    "    \n",
    "    from sklearn.model_selection import train_test_split\n",
    "    \n",
    "    X_train, X_val_test, y_train, y_val_test = train_test_split(X, y,\n",
    "                                                                stratify=y, \n",
    "                                                                test_size=float(val_size+test_size),random_state=int(random_state))\n",
    "    \n",
    "    X_val, X_test, y_val, y_test = train_test_split(X_val_test, y_val_test,\n",
    "                                                stratify=y_val_test, \n",
    "                                                test_size=float(test_size)/float(val_size+test_size),random_state=int(random_state))\n",
    "        \n",
    "    print( 'Train dataset (X_train y_train):',y_train.count())\n",
    "    print('Validataion dataset(X_val, y_val):',y_val.count())\n",
    "    print('Test dataset (X_test, y_test):',y_test.count())  \n",
    "    \n",
    "    return X_train, y_train, X_val, y_val, X_test, y_test                                           \n",
    "                                              \n",
    "    "
   ]
  },
  {
   "cell_type": "code",
   "execution_count": 13,
   "metadata": {
    "scrolled": true
   },
   "outputs": [
    {
     "name": "stdout",
     "output_type": "stream",
     "text": [
      "Train dataset (X_train y_train): 24015\n",
      "Validataion dataset(X_val, y_val): 1334\n",
      "Test dataset (X_test, y_test): 1335\n"
     ]
    }
   ],
   "source": [
    "# Train: Validate: Test = 0.9:0.05:0.05\n",
    "X_train, y_train, X_val, y_val, X_test, y_test = split_df(df_target_path,'image_path','Target',0.05,0.05,0)"
   ]
  },
  {
   "cell_type": "markdown",
   "metadata": {},
   "source": [
    "#### 3.2) Split image files to train, test, validate directories"
   ]
  },
  {
   "cell_type": "code",
   "execution_count": 14,
   "metadata": {},
   "outputs": [
    {
     "data": {
      "text/plain": [
       "23932    /home/ubuntu/healthcare/pneumonia_lungfish/src...\n",
       "Name: image_path, dtype: object"
      ]
     },
     "execution_count": 14,
     "metadata": {},
     "output_type": "execute_result"
    }
   ],
   "source": [
    "X_test[:1]"
   ]
  },
  {
   "cell_type": "code",
   "execution_count": 91,
   "metadata": {},
   "outputs": [],
   "source": [
    "# We wrote a function to split images in train, validation directory\n",
    "def X_split_image(X,source_DIR,dst_DIR):\n",
    "    import pandas as pd\n",
    "    import os\n",
    "    \n",
    "    '''\n",
    "    type(X): dataframe series\n",
    "    '''\n",
    "     \n",
    "    # create a sample image_path file\n",
    "    df = pd.DataFrame()    \n",
    "    df['image_path']=X.astype(str)\n",
    "    df['image_dcm'] = df['image_path'].str.replace('/home/ubuntu/healthcare/pneumonia_lungfish/src/data/raw/stage_2_train_images/', '')\n",
    "    #print(df.head(2) )\n",
    "    # Optional: write df into a csv file\n",
    "    os.chdir(dst_DIR)\n",
    "    csv_name = str(dst_DIR)+'image_path.csv'\n",
    "    \n",
    "    df.to_csv(csv_name,index=False)\n",
    "    print('csv files are saved in', dst_DIR)\n",
    "    \n",
    "    print(df.shape[0],'images are splitted from',source_DIR,'in',dst_DIR)\n",
    "                            \n",
    "    names= df['image_dcm'].tolist()\n",
    "    #print(names)\n",
    "    \n",
    "    for filename in os.listdir(source_DIR):\n",
    "        #print(len(filename))\n",
    "        for name in names:\n",
    "            #print(name)\n",
    "            if filename in name:               \n",
    "                #print('mathced names ')\n",
    "                shutil.move(os.path.join(source_DIR,filename), dst_DIR)\n",
    "                          "
   ]
  },
  {
   "cell_type": "code",
   "execution_count": null,
   "metadata": {},
   "outputs": [],
   "source": [
    "X_split_image(X_train,full_image,full_train)\n",
    "X_split_image(X_test,full_image,full_test)\n",
    "X_split_image(X_val,full_image,full_validate)"
   ]
  },
  {
   "cell_type": "markdown",
   "metadata": {},
   "source": [
    "#### 3.3) Prepare a dataframe df_all, which contains target (lable), path, and boxes information "
   ]
  },
  {
   "cell_type": "code",
   "execution_count": 58,
   "metadata": {
    "scrolled": true
   },
   "outputs": [
    {
     "name": "stdout",
     "output_type": "stream",
     "text": [
      "                              patientId  Target  \\\n",
      "0  0004cfab-14fd-4e49-80ba-63a80b6bddd6       0   \n",
      "1  00313ee0-9eaa-42f4-b0ab-c148ed3241cd       0   \n",
      "\n",
      "                                          image_path    x    y  width  height  \n",
      "0  /home/ubuntu/healthcare/pneumonia_lungfish/src... nan% nan%   nan%    nan%  \n",
      "1  /home/ubuntu/healthcare/pneumonia_lungfish/src... nan% nan%   nan%    nan%  \n",
      "\n",
      " In total, 26684 patients. 30227 rows. Because one image may have more than one bounding box\n"
     ]
    }
   ],
   "source": [
    "df_all = pd.merge(df_target_path,df_labels, on=['patientId','Target'],how='left')\n",
    "print(df_all.head(2))\n",
    "print('\\n','In total,',df_target_path.shape[0],'patients.',df_all.shape[0],'rows. Because one image may have more than one bounding box')\n",
    "df_all.to_csv(os.path.join(full_meta,'df_target_path_box.csv'),index=False)\n",
    "\n"
   ]
  },
  {
   "cell_type": "markdown",
   "metadata": {},
   "source": [
    "### 4. A small sample dataset preparation for demo \n",
    "#### N= 1000 images. It preserves sample proportions in the full dataset\n"
   ]
  },
  {
   "cell_type": "markdown",
   "metadata": {},
   "source": [
    "#### 4.1)  Split the dataframe into rest and sample dataframe"
   ]
  },
  {
   "cell_type": "code",
   "execution_count": 65,
   "metadata": {},
   "outputs": [],
   "source": [
    "# Split the dataset into rest and sample \n",
    "X = df_target_path['image_path']\n",
    "y = df_target_path['Target']\n",
    "X_rest, X_sample, y_rest, y_sample = train_test_split(X, y,\n",
    "                                                stratify=y, \n",
    "                                                test_size=0.03747,random_state=0)"
   ]
  },
  {
   "cell_type": "markdown",
   "metadata": {},
   "source": [
    "#### 4.2) Copy Sample Image Files to assets_image_sample directories"
   ]
  },
  {
   "cell_type": "code",
   "execution_count": 73,
   "metadata": {},
   "outputs": [],
   "source": [
    "# We wrote a function to copy images from source_DIR to destination directory\n",
    "def X_copy_image(X,source_DIR,dst_DIR):\n",
    "    '''\n",
    "    type(X): dataframe series\n",
    "    '''\n",
    "\n",
    "    import pandas as pd\n",
    "    import os\n",
    "\n",
    "    # create a sample image_path file\n",
    "    df = pd.DataFrame()    \n",
    "    df['image_path']=X.astype(str)\n",
    "    df['image_dcm'] = df['image_path'].str.replace('/home/ubuntu/healthcare/pneumonia_lungfish/src/data/raw/stage_2_train_images/', '')\n",
    "    print(df.head(2) )\n",
    "    # Optional: write df into a csv file\n",
    "    csv_name = 'sample_image_path.csv'  \n",
    "    os.chdir(sample_meta)\n",
    "    df.to_csv(csv_name,index=False)\n",
    "    \n",
    "    print(df.shape[0],'images are copied from',source_DIR,'in',dst_DIR)\n",
    "                            \n",
    "\n",
    "    names= df['image_dcm'].tolist()\n",
    "    #print(names)\n",
    "    \n",
    "    for filename in os.listdir(source_DIR):\n",
    "        print(filename)\n",
    "        for name in names:\n",
    "            #print(name)\n",
    "            if filename in name:               \n",
    "                #print('mathced names ')\n",
    "                shutil.copy(os.path.join(source_DIR,filename), dst_DIR)\n",
    "                break                       \n",
    "                          "
   ]
  },
  {
   "cell_type": "code",
   "execution_count": 74,
   "metadata": {
    "scrolled": true
   },
   "outputs": [
    {
     "name": "stdout",
     "output_type": "stream",
     "text": [
      "                                              image_path  \\\n",
      "18255  /home/ubuntu/healthcare/pneumonia_lungfish/src...   \n",
      "19445  /home/ubuntu/healthcare/pneumonia_lungfish/src...   \n",
      "\n",
      "                                      image_dcm  \n",
      "18255  be89e82c-0f08-4660-82de-c2fe903df1c0.dcm  \n",
      "19445  ca112a3c-b701-48b8-a94f-725ea65416a7.dcm  \n",
      "1000 images are copied from /home/ubuntu/healthcare/pneumonia_lungfish/src/data/raw/stage_2_train_images/ in /home/ubuntu/healthcare/pneumonia_lungfish/ocean_assets/image_data/sample_image/\n"
     ]
    }
   ],
   "source": [
    "X_copy_image(X_sample,train_dicom_DIR,sample_image)\n"
   ]
  },
  {
   "cell_type": "code",
   "execution_count": 76,
   "metadata": {
    "scrolled": true
   },
   "outputs": [
    {
     "data": {
      "text/html": [
       "<div>\n",
       "<style scoped>\n",
       "    .dataframe tbody tr th:only-of-type {\n",
       "        vertical-align: middle;\n",
       "    }\n",
       "\n",
       "    .dataframe tbody tr th {\n",
       "        vertical-align: top;\n",
       "    }\n",
       "\n",
       "    .dataframe thead th {\n",
       "        text-align: right;\n",
       "    }\n",
       "</style>\n",
       "<table border=\"1\" class=\"dataframe\">\n",
       "  <thead>\n",
       "    <tr style=\"text-align: right;\">\n",
       "      <th></th>\n",
       "      <th>image_path</th>\n",
       "      <th>image_dcm</th>\n",
       "    </tr>\n",
       "  </thead>\n",
       "  <tbody>\n",
       "    <tr>\n",
       "      <th>0</th>\n",
       "      <td>/home/ubuntu/healthcare/pneumonia_lungfish/src...</td>\n",
       "      <td>be89e82c-0f08-4660-82de-c2fe903df1c0.dcm</td>\n",
       "    </tr>\n",
       "    <tr>\n",
       "      <th>1</th>\n",
       "      <td>/home/ubuntu/healthcare/pneumonia_lungfish/src...</td>\n",
       "      <td>ca112a3c-b701-48b8-a94f-725ea65416a7.dcm</td>\n",
       "    </tr>\n",
       "    <tr>\n",
       "      <th>2</th>\n",
       "      <td>/home/ubuntu/healthcare/pneumonia_lungfish/src...</td>\n",
       "      <td>fdff1f9e-15e5-4b5b-acf7-bdd0d584fcf6.dcm</td>\n",
       "    </tr>\n",
       "    <tr>\n",
       "      <th>3</th>\n",
       "      <td>/home/ubuntu/healthcare/pneumonia_lungfish/src...</td>\n",
       "      <td>6329ef20-a219-43c4-a437-e15622f8c0ac.dcm</td>\n",
       "    </tr>\n",
       "    <tr>\n",
       "      <th>4</th>\n",
       "      <td>/home/ubuntu/healthcare/pneumonia_lungfish/src...</td>\n",
       "      <td>7e2abe5f-c9c3-44e1-9fe2-a343d651b17b.dcm</td>\n",
       "    </tr>\n",
       "  </tbody>\n",
       "</table>\n",
       "</div>"
      ],
      "text/plain": [
       "                                          image_path  \\\n",
       "0  /home/ubuntu/healthcare/pneumonia_lungfish/src...   \n",
       "1  /home/ubuntu/healthcare/pneumonia_lungfish/src...   \n",
       "2  /home/ubuntu/healthcare/pneumonia_lungfish/src...   \n",
       "3  /home/ubuntu/healthcare/pneumonia_lungfish/src...   \n",
       "4  /home/ubuntu/healthcare/pneumonia_lungfish/src...   \n",
       "\n",
       "                                  image_dcm  \n",
       "0  be89e82c-0f08-4660-82de-c2fe903df1c0.dcm  \n",
       "1  ca112a3c-b701-48b8-a94f-725ea65416a7.dcm  \n",
       "2  fdff1f9e-15e5-4b5b-acf7-bdd0d584fcf6.dcm  \n",
       "3  6329ef20-a219-43c4-a437-e15622f8c0ac.dcm  \n",
       "4  7e2abe5f-c9c3-44e1-9fe2-a343d651b17b.dcm  "
      ]
     },
     "execution_count": 76,
     "metadata": {},
     "output_type": "execute_result"
    }
   ],
   "source": [
    "# read the X_sample csv in a pandas dataframe\n",
    "X_sample_csv = pd.read_csv(os.path.join(sample_meta,'sample_image_path.csv'))\n",
    "X_sample_csv.head()\n"
   ]
  },
  {
   "cell_type": "code",
   "execution_count": 78,
   "metadata": {},
   "outputs": [
    {
     "name": "stdout",
     "output_type": "stream",
     "text": [
      "                                          image_path  \\\n",
      "0  /home/ubuntu/healthcare/pneumonia_lungfish/src...   \n",
      "1  /home/ubuntu/healthcare/pneumonia_lungfish/src...   \n",
      "\n",
      "                                  image_dcm  \\\n",
      "0  be89e82c-0f08-4660-82de-c2fe903df1c0.dcm   \n",
      "1  ca112a3c-b701-48b8-a94f-725ea65416a7.dcm   \n",
      "\n",
      "                              patientId  Target  \n",
      "0  be89e82c-0f08-4660-82de-c2fe903df1c0       0  \n",
      "1  ca112a3c-b701-48b8-a94f-725ea65416a7       0  \n"
     ]
    }
   ],
   "source": [
    "# merge with target information \n",
    "df_sample_target_path=pd.merge(X_sample_csv,df_target_path,on='image_path',how='left')\n",
    "print(df_sample_target_path.head(2))\n",
    "\n",
    "df_sample_target_path.to_csv(os.path.join(sample_meta,'df_target_path_1000sample.csv'),index=False)\n"
   ]
  },
  {
   "cell_type": "markdown",
   "metadata": {},
   "source": [
    "#### The sample proportions are preserved"
   ]
  },
  {
   "cell_type": "code",
   "execution_count": 79,
   "metadata": {
    "scrolled": true
   },
   "outputs": [
    {
     "data": {
      "text/html": [
       "<div>\n",
       "<style scoped>\n",
       "    .dataframe tbody tr th:only-of-type {\n",
       "        vertical-align: middle;\n",
       "    }\n",
       "\n",
       "    .dataframe tbody tr th {\n",
       "        vertical-align: top;\n",
       "    }\n",
       "\n",
       "    .dataframe thead th {\n",
       "        text-align: right;\n",
       "    }\n",
       "</style>\n",
       "<table border=\"1\" class=\"dataframe\">\n",
       "  <thead>\n",
       "    <tr style=\"text-align: right;\">\n",
       "      <th></th>\n",
       "      <th>Target</th>\n",
       "      <th>Count</th>\n",
       "      <th>Percentage</th>\n",
       "    </tr>\n",
       "  </thead>\n",
       "  <tbody>\n",
       "    <tr>\n",
       "      <th>0</th>\n",
       "      <td>0</td>\n",
       "      <td>775</td>\n",
       "      <td>77.5%</td>\n",
       "    </tr>\n",
       "    <tr>\n",
       "      <th>1</th>\n",
       "      <td>1</td>\n",
       "      <td>225</td>\n",
       "      <td>22.5%</td>\n",
       "    </tr>\n",
       "  </tbody>\n",
       "</table>\n",
       "</div>"
      ],
      "text/plain": [
       "   Target   Count  Percentage\n",
       "0       0     775       77.5%\n",
       "1       1     225       22.5%"
      ]
     },
     "execution_count": 79,
     "metadata": {},
     "output_type": "execute_result"
    }
   ],
   "source": [
    "df_sample_count = df_sample_target_path.groupby(['Target']).size().reset_index(name=' Count')\n",
    "df_sample_count['Percentage'] =df_sample_count.iloc[:, 1:].apply(lambda x: x / x.sum()*100)\n",
    "pd.options.display.float_format = '{:.1f}%'.format\n",
    "df_sample_count\n"
   ]
  },
  {
   "cell_type": "markdown",
   "metadata": {},
   "source": [
    "#### 4.3) Split image files to train, test, validate"
   ]
  },
  {
   "cell_type": "code",
   "execution_count": 89,
   "metadata": {},
   "outputs": [
    {
     "name": "stdout",
     "output_type": "stream",
     "text": [
      "Train dataset (X_train y_train): 900\n",
      "Validataion dataset(X_val, y_val): 50\n",
      "Test dataset (X_test, y_test): 50\n"
     ]
    }
   ],
   "source": [
    "X_train, y_train, X_val, y_val, X_test, y_test = split_df(df_sample_target_path,'image_path','Target',0.05,0.05,0)\n"
   ]
  },
  {
   "cell_type": "code",
   "execution_count": 93,
   "metadata": {
    "scrolled": true
   },
   "outputs": [
    {
     "name": "stdout",
     "output_type": "stream",
     "text": [
      "csv files are saved in /home/ubuntu/healthcare/pneumonia_lungfish/ocean_assets/image_data/sample_image/sample_train/\n",
      "900 images are splitted from /home/ubuntu/healthcare/pneumonia_lungfish/ocean_assets/image_data/sample_image/ in /home/ubuntu/healthcare/pneumonia_lungfish/ocean_assets/image_data/sample_image/sample_train/\n",
      "csv files are saved in /home/ubuntu/healthcare/pneumonia_lungfish/ocean_assets/image_data/sample_image/sample_test/\n",
      "50 images are splitted from /home/ubuntu/healthcare/pneumonia_lungfish/ocean_assets/image_data/sample_image/ in /home/ubuntu/healthcare/pneumonia_lungfish/ocean_assets/image_data/sample_image/sample_test/\n",
      "csv files are saved in /home/ubuntu/healthcare/pneumonia_lungfish/ocean_assets/image_data/sample_image/sample_validate/\n",
      "50 images are splitted from /home/ubuntu/healthcare/pneumonia_lungfish/ocean_assets/image_data/sample_image/ in /home/ubuntu/healthcare/pneumonia_lungfish/ocean_assets/image_data/sample_image/sample_validate/\n"
     ]
    }
   ],
   "source": [
    "X_split_image(X_train,sample_image,sample_train)\n",
    "X_split_image(X_test,sample_image,sample_test)\n",
    "X_split_image(X_val,sample_image,sample_validate)"
   ]
  },
  {
   "cell_type": "markdown",
   "metadata": {},
   "source": [
    "#### 4.4) Prepare a sample dataframe which contains label, path, and boxes information "
   ]
  },
  {
   "cell_type": "code",
   "execution_count": 95,
   "metadata": {
    "scrolled": true
   },
   "outputs": [
    {
     "name": "stdout",
     "output_type": "stream",
     "text": [
      "\n",
      " In total, 1000 patients. 1133 rows. Because one image may have more than one bounding box\n"
     ]
    }
   ],
   "source": [
    "df_sample_all= pd.merge(df_sample_target_path,df_labels,on=['patientId','Target'],how='left')\n",
    "print('\\n','In total,',df_sample_target_path.shape[0],'patients.',df_sample_all.shape[0],'rows. Because one image may have more than one bounding box')\n",
    "df_sample_all.to_csv(os.path.join(sample_meta,'df_target_path_box_1000samples.csv'),index=False)\n"
   ]
  },
  {
   "cell_type": "markdown",
   "metadata": {},
   "source": [
    "### So far, we have prepared two datasets \n",
    " #### 1) A full dataset \n",
    "   * 26684 images   \n",
    "     * in /ocean_assets/ocean_assets_image_data/       \n",
    "   * Matched dataframes \n",
    "     * df_target_path.csv \n",
    "     * df_target_path_box.csv   \n",
    "     * in /ocean_assets/ocean_assets_meta_data/\n",
    "     \n",
    "     \n",
    " #### 2) A small sample dataset\n",
    "   * 1000 images   \n",
    "     * in /ocean_assets/ocean_assets_image_data/     \n",
    "   * Matched dataframes     \n",
    "     * df_target_path_1000sample.csv\n",
    "     * df_target_path_box_1000samples.csv\n",
    "     * in /ocean_assets/ocean_assets_meta_data/"
   ]
  },
  {
   "cell_type": "markdown",
   "metadata": {},
   "source": [
    "### Now, let's head to data visualization notebook"
   ]
  }
 ],
 "metadata": {
  "jupytext": {},
  "kernelspec": {
   "display_name": "Python 3",
   "language": "python",
   "name": "python3"
  },
  "language_info": {
   "codemirror_mode": {
    "name": "ipython",
    "version": 3
   },
   "file_extension": ".py",
   "mimetype": "text/x-python",
   "name": "python",
   "nbconvert_exporter": "python",
   "pygments_lexer": "ipython3",
   "version": "3.7.2"
  }
 },
 "nbformat": 4,
 "nbformat_minor": 2
}
